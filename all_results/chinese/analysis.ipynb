{
 "cells": [
  {
   "cell_type": "code",
   "execution_count": 1,
   "metadata": {
    "collapsed": true
   },
   "outputs": [],
   "source": [
    "import numpy as np\n",
    "import random\n",
    "import os\n",
    "import glob\n",
    "import matplotlib.pyplot as plt\n",
    "%matplotlib inline"
   ]
  },
  {
   "cell_type": "code",
   "execution_count": 2,
   "metadata": {
    "collapsed": true
   },
   "outputs": [],
   "source": [
    "def read_file(directory):\n",
    "    list_dir = os.listdir(directory)\n",
    "    list_dir = sorted(list_dir)\n",
    "    \n",
    "    train_acc, train_loss, val_acc, val_loss = [],[],[],[]\n",
    "    with open(directory+'/'+list_dir[0],'r') as f:\n",
    "        for line in f:\n",
    "            train_acc.append(float(line.rstrip('\\n')))\n",
    "    with open(directory+'/'+list_dir[1],'r') as f:\n",
    "        for line in f:\n",
    "            train_loss.append(float(line.rstrip('\\n')))  \n",
    "    with open(directory+'/'+list_dir[2],'r') as f:\n",
    "        for line in f:\n",
    "            val_acc.append(float(line.rstrip('\\n')))  \n",
    "    with open(directory+'/'+list_dir[3],'r') as f:\n",
    "        for line in f:\n",
    "            val_loss.append(float(line.rstrip('\\n')))  \n",
    "\n",
    "    return train_acc,train_loss,val_acc,val_loss"
   ]
  },
  {
   "cell_type": "code",
   "execution_count": 3,
   "metadata": {
    "collapsed": true
   },
   "outputs": [],
   "source": [
    "import numpy as np\n",
    "import scipy.stats\n",
    "\n",
    "def mean_confidence_interval(data, confidence=0.95):\n",
    "    a = 1.0 * np.array(data)\n",
    "    n = len(a)\n",
    "    m, se = np.mean(a), scipy.stats.sem(a)\n",
    "    h = se * scipy.stats.t.ppf((1 + confidence) / 2., n-1)\n",
    "\n",
    "    return m, m-h, m+h\n",
    "\n",
    "def return_highest(input_list,interval):\n",
    "    tmp_mean, tmp_diff, index = 0, 0, 0\n",
    "    for i in range(len(input_list)-interval):\n",
    "        mean, high, low = mean_confidence_interval(input_list[i:interval+i])\n",
    "        if mean > tmp_mean:\n",
    "            tmp_mean = mean\n",
    "            tmp_diff = high-mean\n",
    "            index = i\n",
    "\n",
    "    return tmp_mean,-tmp_diff, index, interval"
   ]
  },
  {
   "cell_type": "code",
   "execution_count": 4,
   "metadata": {
    "collapsed": true
   },
   "outputs": [],
   "source": [
    "_5151_training_acc, _5151_training_loss, _5151_val_acc, _5151_val_loss = read_file('5151/')\n",
    "_5155_training_acc, _5155_training_loss, _5155_val_acc, _5155_val_loss = read_file('5155/')\n",
    "_5551_training_acc, _5551_training_loss, _5551_val_acc, _5551_val_loss = read_file('5551/')\n",
    "_5555_training_acc, _5555_training_loss, _5555_val_acc, _5555_val_loss = read_file('5555/')\n",
    "\n",
    "_51201_training_acc, _51201_training_loss, _51201_val_acc, _51201_val_loss = read_file('51201/')\n",
    "_51205_training_acc, _51205_training_loss, _51205_val_acc, _51205_val_loss = read_file('51205/')\n",
    "_55201_training_acc, _55201_training_loss, _55201_val_acc, _55201_val_loss = read_file('55201/')\n",
    "_55205_training_acc, _55205_training_loss, _55205_val_acc, _55205_val_loss = read_file('55205/')\n",
    "\n",
    "_20151_training_acc, _20151_training_loss, _20151_val_acc, _20151_val_loss = read_file('20151/')\n",
    "_20155_training_acc, _20155_training_loss, _20155_val_acc, _20155_val_loss = read_file('20155/')\n",
    "_20551_training_acc, _20551_training_loss, _20551_val_acc, _20551_val_loss = read_file('20551/')\n",
    "_20555_training_acc, _20555_training_loss, _20555_val_acc, _20555_val_loss = read_file('20555/')\n",
    "\n",
    "_201201_training_acc, _201201_training_loss, _201201_val_acc, _201201_val_loss = read_file('201201/')\n",
    "_201205_training_acc, _201205_training_loss, _201205_val_acc, _201205_val_loss = read_file('201205/')\n",
    "_205201_training_acc, _205201_training_loss, _205201_val_acc, _205201_val_loss = read_file('205201/')\n",
    "_205205_training_acc, _205205_training_loss, _205205_val_acc, _205205_val_loss = read_file('205205/')"
   ]
  },
  {
   "cell_type": "code",
   "execution_count": 5,
   "metadata": {},
   "outputs": [],
   "source": [
    "_60151_training_acc, _60151_training_loss, _60151_val_acc, _60151_val_loss = read_file('60151/')\n",
    "_60155_training_acc, _60155_training_loss, _60155_val_acc, _60155_val_loss = read_file('60155/')\n",
    "_60551_training_acc, _60551_training_loss, _60551_val_acc, _60551_val_loss = read_file('60551/')\n",
    "_60555_training_acc, _60555_training_loss, _60555_val_acc, _60555_val_loss = read_file('60555/')\n",
    "\n",
    "_601201_training_acc, _601201_training_loss, _601201_val_acc, _601201_val_loss = read_file('601201/')\n",
    "#_601205_training_acc, _601205_training_loss, _601205_val_acc, _601205_val_loss = read_file('601205/')\n",
    "_605201_training_acc, _605201_training_loss, _605201_val_acc, _605201_val_loss = read_file('605201/')\n",
    "#_605205_training_acc, _605205_training_loss, _605205_val_acc, _605205_val_loss = read_file('605205/')"
   ]
  },
  {
   "cell_type": "code",
   "execution_count": 5,
   "metadata": {
    "collapsed": true
   },
   "outputs": [],
   "source": [
    "def draw_figure(training_acc,training_loss,val_acc,val_loss,le_name=('5w_1s','20w_1s','60w_1s'),save_op=False,alpha=1):\n",
    "\n",
    "    color_selection = ['b','r','k','m','c','g']\n",
    "    #len_train = int(len(training_acc[0])*alpha)\n",
    "    len_test = int(len(val_acc[0])*alpha)\n",
    "    val = np.arange(0,len_test*50,50)\n",
    "#     training = np.arange(0, len_train, 1)\n",
    "#     val = np.arange(0, len_train, int(len_train/len_test))\n",
    "\n",
    "#     fig = plt.figure(figsize=(25,16))\n",
    "#     fig.suptitle('Training and Validation results on Omniglot dataset', fontsize=24)\n",
    "\n",
    "#     plt.subplot(2, 2, 1)\n",
    "#     for i in range(len(le_name)):\n",
    "#         plt.plot(training, training_loss[i][0:len_train],color_selection[i])\n",
    "#     plt.xlabel('iteration', fontsize=18)\n",
    "#     plt.ylabel('train_loss', fontsize=18)\n",
    "#     plt.gca().legend(le_name, fontsize=18)\n",
    "\n",
    "#     plt.subplot(2, 2, 2)\n",
    "#     for i in range(len(le_name)):\n",
    "#         plt.plot(val, val_loss[i][0:len_test],color_selection[i])\n",
    "#     plt.xlabel('iteration', fontsize=18)\n",
    "#     plt.ylabel('val_loss', fontsize=18)\n",
    "#     plt.gca().legend(le_name, fontsize=18)\n",
    "\n",
    "#     plt.subplot(2, 2, 3)\n",
    "#     for i in range(len(le_name)):\n",
    "#         plt.plot(training, training_acc[i][0:len_train],color_selection[i])\n",
    "#     plt.xlabel('iteration', fontsize=18)\n",
    "#     plt.ylabel('train_acc', fontsize=18)\n",
    "#     plt.gca().legend(le_name, fontsize=18)\n",
    "\n",
    "    plt.subplot(1, 1, 1)\n",
    "    #plt.xticks(fontsize=20)\n",
    "    #plt.yticks(fontsize=20)\n",
    "    for i in range(len(le_name)):\n",
    "        plt.plot(val, val_acc[i][0:len_test],color_selection[i])\n",
    "    plt.xlabel('iteration', fontsize=18)\n",
    "    plt.ylabel('val_acc', fontsize=18)\n",
    "    plt.gca().legend(le_name, fontsize=18)\n",
    "    #,prop={'size': 24}\n",
    "    if save_op:\n",
    "        fig.savefig('image.jpg')\n",
    "    plt.show()"
   ]
  },
  {
   "cell_type": "code",
   "execution_count": 10,
   "metadata": {},
   "outputs": [
    {
     "data": {
      "image/png": "[encoded data removed]",
      "text/plain": [
       "<matplotlib.figure.Figure at 0x1a2349df28>"
      ]
     },
     "metadata": {},
     "output_type": "display_data"
    }
   ],
   "source": [
    "#training_loss = [_5151_training_loss,_20151_training_loss,_60151_training_loss,_5551_training_loss,_20551_training_loss,_60551_training_loss]\n",
    "#training_acc = [_5151_training_acc,_20151_training_acc,_60151_training_acc,_5551_training_acc,_20551_training_acc,_60551_training_acc]\n",
    "#val_loss = [_5151_val_loss,_20151_val_loss,_60151_val_loss,_5551_val_loss,_20551_val_loss,_60551_val_loss]\n",
    "training_acc=[]\n",
    "training_loss=[]\n",
    "val_loss=[]\n",
    "val_acc = [_51201_val_acc,_51205_val_acc,_55201_val_acc,_55205_val_acc]\n",
    "le_name = ('201201','201205','205201','205205')\n",
    "draw_figure(training_acc,training_loss,val_acc,val_loss,le_name,save_op=False,alpha=0.3)"
   ]
  },
  {
   "cell_type": "code",
   "execution_count": 6,
   "metadata": {},
   "outputs": [
    {
     "name": "stdout",
     "output_type": "stream",
     "text": [
      "5151 :  0.9928000038862228\n",
      "5155 :  0.9992000007629395\n",
      "5551 :  0.9908000040054321\n",
      "5555 :  0.998933334350586\n",
      "20151 :  0.9594666701555252\n",
      "20155 :  0.9468000000715255\n"
     ]
    }
   ],
   "source": [
    "#regular\n",
    "# regular_acc = [_5151_val_acc,_5155_val_acc,_5551_val_acc,_5555_val_acc,\n",
    "#                _20151_val_acc,_20155_val_acc,_20551_val_acc,_20555_val_acc,\n",
    "#                _51201_val_acc,_51205_val_acc,_55201_val_acc,_55205_val_acc,\n",
    "#                _201201_val_acc,_201205_val_acc,_205201_val_acc,_205205_val_acc]\n",
    "#_60151_val_acc,_60155_val_acc,_60551_val_acc,_60555_val_acc,\n",
    "#_601201_val_acc,_601205_val_acc,_605201_val_acc,_605205_val_acc\n",
    "regular_acc = [_60151_val_acc,_60155_val_acc,_60551_val_acc,_60555_val_acc,_601201_val_acc,_605201_val_acc]\n",
    "regular_name = ('5151','5155','5551','5555','20151','20155','20551','20555',\n",
    "               '51201','51205','55201','55205','201201','201205','205201','205205')\n",
    "for i in range(len(regular_acc)):\n",
    "    print(str(regular_name[i]),': ', max(regular_acc[i]))"
   ]
  },
  {
   "cell_type": "code",
   "execution_count": 13,
   "metadata": {},
   "outputs": [
    {
     "name": "stdout",
     "output_type": "stream",
     "text": [
      "from 76 to 78 0.9858666720986367 0.0067766322766430465\n",
      "from 75 to 79 0.9845000061392783 0.0027737146462084583\n",
      "from 72 to 78 0.984288894633452 0.0015964097591472104\n",
      "from 91 to 99 0.9835333394259214 0.0022309811303407034\n",
      "from 88 to 98 0.9830400060415269 0.001956174656099874\n",
      "from 87 to 99 0.9831222280859948 0.0016500182002276986\n",
      "from 72 to 86 0.9826571485825948 0.0012985804603001805\n",
      "from 82 to 98 0.9824000057578087 0.0017725095233058763\n",
      "from 81 to 99 0.9823185242878066 0.0015583382136259427\n",
      "from 75 to 95 0.9823800056278704 0.0014129046212535412\n",
      "from 73 to 95 0.9824848541617393 0.001293708968361451\n",
      "from 74 to 98 0.9824500058591367 0.0012926294264999916\n",
      "from 72 to 98 0.9825641083946596 0.0012011660947224279\n",
      "from 71 to 99 0.9823666724775517 0.0011627039135215789\n",
      "from 69 to 99 0.9819422280192375 0.0012527767462631179\n",
      "from 67 to 99 0.9818375057727099 0.0012543754341444169\n",
      "from 65 to 99 0.9817607900149682 0.0011818103260623491\n",
      "from 62 to 98 0.9815592649910183 0.0011620344889446965\n",
      "from 61 to 99 0.9815333391177026 0.0010997182249837811\n",
      "from 58 to 98 0.9814500057101249 0.0010638051797805526\n",
      "from 57 to 99 0.981441275519984 0.0010115380549505781\n",
      "from 54 to 98 0.9812121269377794 0.001035889705956028\n",
      "from 53 to 99 0.9810898607580556 0.001025414179879447\n",
      "from 50 to 98 0.9809194501116871 0.0010567624732553682\n"
     ]
    }
   ],
   "source": [
    "#i is length of list being calculated\n",
    "for i in range(2,50,2):\n",
    "    mean,diff,index,interval = return_highest(_20151_val_acc,i)\n",
    "    print('from {} to {}'.format(index,index+interval),mean,diff)"
   ]
  }
 ],
 "metadata": {
  "kernelspec": {
   "display_name": "Python 3",
   "language": "python",
   "name": "python3"
  },
  "language_info": {
   "codemirror_mode": {
    "name": "ipython",
    "version": 3
   },
   "file_extension": ".py",
   "mimetype": "text/x-python",
   "name": "python",
   "nbconvert_exporter": "python",
   "pygments_lexer": "ipython3",
   "version": "3.6.7"
  }
 },
 "nbformat": 4,
 "nbformat_minor": 2
}
