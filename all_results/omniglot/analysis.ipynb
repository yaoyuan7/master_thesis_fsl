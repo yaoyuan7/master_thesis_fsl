{
 "cells": [
  {
   "cell_type": "code",
   "execution_count": 1,
   "metadata": {
    "collapsed": true
   },
   "outputs": [],
   "source": [
    "import numpy as np\n",
    "import random\n",
    "import os\n",
    "import glob\n",
    "import matplotlib.pyplot as plt\n",
    "%matplotlib inline"
   ]
  },
  {
   "cell_type": "code",
   "execution_count": 2,
   "metadata": {
    "collapsed": true
   },
   "outputs": [],
   "source": [
    "def read_file(directory):\n",
    "    list_dir = os.listdir(directory)\n",
    "    list_dir = sorted(list_dir)\n",
    "    \n",
    "    train_acc, train_loss, val_acc, val_loss = [],[],[],[]\n",
    "    with open(directory+'/'+list_dir[0],'r') as f:\n",
    "        for line in f:\n",
    "            train_acc.append(float(line.rstrip('\\n')))\n",
    "    with open(directory+'/'+list_dir[1],'r') as f:\n",
    "        for line in f:\n",
    "            train_loss.append(float(line.rstrip('\\n')))  \n",
    "    with open(directory+'/'+list_dir[2],'r') as f:\n",
    "        for line in f:\n",
    "            val_acc.append(float(line.rstrip('\\n')))  \n",
    "    with open(directory+'/'+list_dir[3],'r') as f:\n",
    "        for line in f:\n",
    "            val_loss.append(float(line.rstrip('\\n')))  \n",
    "\n",
    "    return train_acc,train_loss,val_acc,val_loss"
   ]
  },
  {
   "cell_type": "code",
   "execution_count": 3,
   "metadata": {
    "collapsed": true
   },
   "outputs": [],
   "source": [
    "import numpy as np\n",
    "import scipy.stats\n",
    "\n",
    "def mean_confidence_interval(data, confidence=0.95):\n",
    "    a = 1.0 * np.array(data)\n",
    "    n = len(a)\n",
    "    m, se = np.mean(a), scipy.stats.sem(a)\n",
    "    h = se * scipy.stats.t.ppf((1 + confidence) / 2., n-1)\n",
    "\n",
    "    return m, m-h, m+h\n",
    "\n",
    "def return_highest(input_list,interval):\n",
    "    tmp_mean, tmp_diff, index = 0, 0, 0\n",
    "    for i in range(len(input_list)-interval):\n",
    "        mean, high, low = mean_confidence_interval(input_list[i:interval+i])\n",
    "        if mean > tmp_mean:\n",
    "            tmp_mean = mean\n",
    "            tmp_diff = high-mean\n",
    "            index = i\n",
    "\n",
    "    return tmp_mean,-tmp_diff, index, interval"
   ]
  },
  {
   "cell_type": "code",
   "execution_count": 4,
   "metadata": {
    "collapsed": true
   },
   "outputs": [],
   "source": [
    "_5151_training_acc, _5151_training_loss, _5151_val_acc, _5151_val_loss = read_file('test-5w/5151/')\n",
    "_5155_training_acc, _5155_training_loss, _5155_val_acc, _5155_val_loss = read_file('test-5w/5155/')\n",
    "_5551_training_acc, _5551_training_loss, _5551_val_acc, _5551_val_loss = read_file('test-5w/5551/')\n",
    "_5555_training_acc, _5555_training_loss, _5555_val_acc, _5555_val_loss = read_file('test-5w/5555/')\n",
    "\n",
    "p_5151_training_acc, p_5151_training_loss, p_5151_val_acc, p_5151_val_loss = read_file('test-5w/5151_p/')\n",
    "p_5155_training_acc, p_5155_training_loss, p_5155_val_acc, p_5155_val_loss = read_file('test-5w/5155_p/')\n",
    "p_5551_training_acc, p_5551_training_loss, p_5551_val_acc, p_5551_val_loss = read_file('test-5w/5551_p/')\n",
    "p_5555_training_acc, p_5555_training_loss, p_5555_val_acc, p_5555_val_loss = read_file('test-5w/5555_P/')"
   ]
  },
  {
   "cell_type": "code",
   "execution_count": 5,
   "metadata": {
    "collapsed": true
   },
   "outputs": [],
   "source": [
    "_51201_training_acc, _51201_training_loss, _51201_val_acc, _51201_val_loss = read_file('test-20w/51201/')\n",
    "_51205_training_acc, _51205_training_loss, _51205_val_acc, _51205_val_loss = read_file('test-20w/51205/')\n",
    "_55201_training_acc, _55201_training_loss, _55201_val_acc, _55201_val_loss = read_file('test-20w/55201/')\n",
    "_55205_training_acc, _55205_training_loss, _55205_val_acc, _55205_val_loss = read_file('test-20w/55205/')\n",
    "\n",
    "p_51201_training_acc, p_51201_training_loss, p_51201_val_acc, p_51201_val_loss = read_file('test-20w/51201_p/')\n",
    "p_51205_training_acc, p_51205_training_loss, p_51205_val_acc, p_51205_val_loss = read_file('test-20w/51205_p/')\n",
    "p_55201_training_acc, p_55201_training_loss, p_55201_val_acc, p_55201_val_loss = read_file('test-20w/55201_p/')\n",
    "p_55205_training_acc, p_55205_training_loss, p_55205_val_acc, p_55205_val_loss = read_file('test-20w/55205_p/')\n"
   ]
  },
  {
   "cell_type": "code",
   "execution_count": 6,
   "metadata": {
    "collapsed": true
   },
   "outputs": [],
   "source": [
    "_20151_training_acc, _20151_training_loss, _20151_val_acc, _20151_val_loss = read_file('test-5w/20151/')\n",
    "_20155_training_acc, _20155_training_loss, _20155_val_acc, _20155_val_loss = read_file('test-5w/20155/')\n",
    "_20551_training_acc, _20551_training_loss, _20551_val_acc, _20551_val_loss = read_file('test-5w/20551/')\n",
    "_20555_training_acc, _20555_training_loss, _20555_val_acc, _20555_val_loss = read_file('test-5w/20555/')\n",
    "\n",
    "p_20151_training_acc, p_20151_training_loss, p_20151_val_acc, p_20151_val_loss = read_file('test-5w/20151_p/')\n",
    "p_20155_training_acc, p_20155_training_loss, p_20155_val_acc, p_20155_val_loss = read_file('test-5w/20155_p/')\n",
    "p_20551_training_acc, p_20551_training_loss, p_20551_val_acc, p_20551_val_loss = read_file('test-5w/20551_p/')\n",
    "p_20555_training_acc, p_20555_training_loss, p_20555_val_acc, p_20555_val_loss = read_file('test-5w/20555_P/')"
   ]
  },
  {
   "cell_type": "code",
   "execution_count": 7,
   "metadata": {
    "collapsed": true
   },
   "outputs": [],
   "source": [
    "_201201_training_acc, _201201_training_loss, _201201_val_acc, _201201_val_loss = read_file('test-20w/201201/')\n",
    "_201205_training_acc, _201205_training_loss, _201205_val_acc, _201205_val_loss = read_file('test-20w/201205/')\n",
    "_205201_training_acc, _205201_training_loss, _205201_val_acc, _205201_val_loss = read_file('test-20w/205201/')\n",
    "_205205_training_acc, _205205_training_loss, _205205_val_acc, _205205_val_loss = read_file('test-20w/205205/')\n",
    "\n",
    "p_201201_training_acc, p_201201_training_loss, p_201201_val_acc, p_201201_val_loss = read_file('test-20w/201201_p/')\n",
    "p_201205_training_acc, p_201205_training_loss, p_201205_val_acc, p_201205_val_loss = read_file('test-20w/201205_p/')\n",
    "p_205201_training_acc, p_205201_training_loss, p_205201_val_acc, p_205201_val_loss = read_file('test-20w/205201_p/')\n",
    "p_205205_training_acc, p_205205_training_loss, p_205205_val_acc, p_205205_val_loss = read_file('test-20w/205205_p/')"
   ]
  },
  {
   "cell_type": "code",
   "execution_count": 8,
   "metadata": {
    "collapsed": true
   },
   "outputs": [],
   "source": [
    "_60151_training_acc, _60151_training_loss, _60151_val_acc, _60151_val_loss = read_file('test-5w/60151/')\n",
    "_60155_training_acc, _60155_training_loss, _60155_val_acc, _60155_val_loss = read_file('test-5w/60155/')\n",
    "_60551_training_acc, _60551_training_loss, _60551_val_acc, _60551_val_loss = read_file('test-5w/60551/')\n",
    "_60555_training_acc, _60555_training_loss, _60555_val_acc, _60555_val_loss = read_file('test-5w/60555/')\n",
    "\n",
    "p_60151_training_acc, p_60151_training_loss, p_60151_val_acc, p_60151_val_loss = read_file('test-5w/60151_p/')\n",
    "p_60155_training_acc, p_60155_training_loss, p_60155_val_acc, p_60155_val_loss = read_file('test-5w/60155_p/')\n",
    "p_60551_training_acc, p_60551_training_loss, p_60551_val_acc, p_60551_val_loss = read_file('test-5w/60551_p/')\n",
    "p_60555_training_acc, p_60555_training_loss, p_60555_val_acc, p_60555_val_loss = read_file('test-5w/60555_P/')"
   ]
  },
  {
   "cell_type": "code",
   "execution_count": 9,
   "metadata": {
    "collapsed": true
   },
   "outputs": [],
   "source": [
    "_601201_training_acc, _601201_training_loss, _601201_val_acc, _601201_val_loss = read_file('test-20w/601201/')\n",
    "_601205_training_acc, _601205_training_loss, _601205_val_acc, _601205_val_loss = read_file('test-20w/601205/')\n",
    "_605201_training_acc, _605201_training_loss, _605201_val_acc, _605201_val_loss = read_file('test-20w/605201/')\n",
    "_605205_training_acc, _605205_training_loss, _605205_val_acc, _605205_val_loss = read_file('test-20w/605205/')\n",
    "\n",
    "p_601201_training_acc, p_601201_training_loss, p_601201_val_acc, p_601201_val_loss = read_file('test-20w/601201_p/')\n",
    "p_601205_training_acc, p_601205_training_loss, p_601205_val_acc, p_601205_val_loss = read_file('test-20w/601205_p/')\n",
    "p_605201_training_acc, p_605201_training_loss, p_605201_val_acc, p_605201_val_loss = read_file('test-20w/605201_p/')\n",
    "p_605205_training_acc, p_605205_training_loss, p_605205_val_acc, p_605205_val_loss = read_file('test-20w/605205_p/')"
   ]
  },
  {
   "cell_type": "code",
   "execution_count": 10,
   "metadata": {
    "collapsed": true
   },
   "outputs": [],
   "source": [
    "def draw_figure(training_acc,training_loss,val_acc,val_loss,le_name=('5w_1s','20w_1s','60w_1s'),save_op=False,alpha=1):\n",
    "\n",
    "    color_selection = ['b','r','k','m','c','g']\n",
    "    #len_train = int(len(training_acc[0])*alpha)\n",
    "    len_test = int(len(val_acc[0])*alpha)\n",
    "    val = np.arange(0,len_test*50,50)\n",
    "#     training = np.arange(0, len_train, 1)\n",
    "#     val = np.arange(0, len_train, int(len_train/len_test))\n",
    "\n",
    "#     fig = plt.figure(figsize=(25,16))\n",
    "#     fig.suptitle('Training and Validation results on Omniglot dataset', fontsize=24)\n",
    "\n",
    "#     plt.subplot(2, 2, 1)\n",
    "#     for i in range(len(le_name)):\n",
    "#         plt.plot(training, training_loss[i][0:len_train],color_selection[i])\n",
    "#     plt.xlabel('iteration', fontsize=18)\n",
    "#     plt.ylabel('train_loss', fontsize=18)\n",
    "#     plt.gca().legend(le_name, fontsize=18)\n",
    "\n",
    "#     plt.subplot(2, 2, 2)\n",
    "#     for i in range(len(le_name)):\n",
    "#         plt.plot(val, val_loss[i][0:len_test],color_selection[i])\n",
    "#     plt.xlabel('iteration', fontsize=18)\n",
    "#     plt.ylabel('val_loss', fontsize=18)\n",
    "#     plt.gca().legend(le_name, fontsize=18)\n",
    "\n",
    "#     plt.subplot(2, 2, 3)\n",
    "#     for i in range(len(le_name)):\n",
    "#         plt.plot(training, training_acc[i][0:len_train],color_selection[i])\n",
    "#     plt.xlabel('iteration', fontsize=18)\n",
    "#     plt.ylabel('train_acc', fontsize=18)\n",
    "#     plt.gca().legend(le_name, fontsize=18)\n",
    "\n",
    "    plt.subplot(1, 1, 1)\n",
    "    #plt.xticks(fontsize=20)\n",
    "    #plt.yticks(fontsize=20)\n",
    "    for i in range(len(le_name)):\n",
    "        plt.plot(val, val_acc[i][0:len_test],color_selection[i])\n",
    "    plt.xlabel('iteration', fontsize=18)\n",
    "    plt.ylabel('val_acc', fontsize=18)\n",
    "    plt.gca().legend(le_name, fontsize=18)\n",
    "    #,prop={'size': 24}\n",
    "    if save_op:\n",
    "        fig.savefig('image.jpg')\n",
    "    plt.show()"
   ]
  },
  {
   "cell_type": "code",
   "execution_count": 54,
   "metadata": {},
   "outputs": [
    {
     "data": {
      "image/png": "[encoded data removed]",
      "text/plain": [
       "<matplotlib.figure.Figure at 0x10a40a5f8>"
      ]
     },
     "metadata": {},
     "output_type": "display_data"
    }
   ],
   "source": [
    "#training_loss = [_5151_training_loss,_20151_training_loss,_60151_training_loss,_5551_training_loss,_20551_training_loss,_60551_training_loss]\n",
    "#training_acc = [_5151_training_acc,_20151_training_acc,_60151_training_acc,_5551_training_acc,_20551_training_acc,_60551_training_acc]\n",
    "#val_loss = [_5151_val_loss,_20151_val_loss,_60151_val_loss,_5551_val_loss,_20551_val_loss,_60551_val_loss]\n",
    "training_acc=[]\n",
    "training_loss=[]\n",
    "val_loss=[]\n",
    "val_acc = [_601201_val_acc,_601205_val_acc,_605201_val_acc,_605205_val_acc]\n",
    "le_name = ('601201','601205','605201','605205')\n",
    "draw_figure(training_acc,training_loss,val_acc,val_loss,le_name,save_op=False,alpha=0.3)"
   ]
  },
  {
   "cell_type": "code",
   "execution_count": 12,
   "metadata": {},
   "outputs": [
    {
     "name": "stdout",
     "output_type": "stream",
     "text": [
      "5151 :  0.9697333377599716\n",
      "5155 :  0.9898666715621949\n",
      "5551 :  0.9753333377838135\n",
      "5555 :  0.9905333387851715\n",
      "20151 :  0.9921333384513855\n",
      "20155 :  0.9974666684865952\n",
      "20551 :  0.9922666716575622\n",
      "20555 :  0.9978666687011719\n",
      "60151 :  0.9948000019788742\n",
      "60155 :  0.9984000015258789\n",
      "60551 :  0.9953333359956741\n",
      "60555 :  0.9982666683197021\n",
      "51201 :  0.8818000000715256\n",
      "51205 :  0.9558333319425583\n",
      "55201 :  0.8965666699409485\n",
      "55205 :  0.9585000002384185\n",
      "201201 :  0.9565666693449021\n",
      "201205 :  0.9872000098228455\n",
      "205201 :  0.9628666692972183\n",
      "205205 :  0.9890000092983245\n",
      "601201 :  0.9702333378791809\n",
      "601205 :  0.9909666746854782\n",
      "605201 :  0.9680333399772644\n",
      "605205 :  0.9922666722536087\n"
     ]
    }
   ],
   "source": [
    "#regular\n",
    "regular_acc = [_5151_val_acc,_5155_val_acc,_5551_val_acc,_5555_val_acc,\n",
    "               _20151_val_acc,_20155_val_acc,_20551_val_acc,_20555_val_acc,\n",
    "               _60151_val_acc,_60155_val_acc,_60551_val_acc,_60555_val_acc,\n",
    "               _51201_val_acc,_51205_val_acc,_55201_val_acc,_55205_val_acc,\n",
    "               _201201_val_acc,_201205_val_acc,_205201_val_acc,_205205_val_acc,\n",
    "               _601201_val_acc,_601205_val_acc,_605201_val_acc,_605205_val_acc]\n",
    "regular_name = ('5151','5155','5551','5555','20151','20155','20551','20555','60151','60155','60551','60555',\n",
    "               '51201','51205','55201','55205','201201','201205','205201','205205','601201','601205','605201','605205')\n",
    "for i in range(len(regular_acc)):\n",
    "    print(str(regular_name[i]),': ', max(regular_acc[i]))"
   ]
  },
  {
   "cell_type": "code",
   "execution_count": 13,
   "metadata": {},
   "outputs": [
    {
     "name": "stdout",
     "output_type": "stream",
     "text": [
      "5151 :  0.9573333376646042\n",
      "5155 :  0.988666672706604\n",
      "5551 :  0.9677333372831345\n",
      "5555 :  0.9897333395481109\n",
      "20151 :  0.9914666706323624\n",
      "20155 :  0.996666669845581\n",
      "20551 :  0.9876000046730041\n",
      "20555 :  0.9965333360433578\n",
      "60151 :  0.9940000051259994\n",
      "60155 :  0.998933334350586\n",
      "60551 :  0.9918666702508926\n",
      "60555 :  0.9981333351135254\n",
      "51201 :  0.8666666650772095\n",
      "51205 :  0.9477666658163071\n",
      "55201 :  0.8608666682243347\n",
      "55205 :  0.9547333329916\n",
      "201201 :  0.9467999988794327\n",
      "201205 :  0.9866000097990036\n",
      "205201 :  0.9391666680574418\n",
      "205205 :  0.984633343219757\n",
      "601201 :  0.9669000035524369\n",
      "601205 :  0.9905333417654038\n",
      "605201 :  0.9565666687488555\n",
      "605205 :  0.9899333417415619\n"
     ]
    }
   ],
   "source": [
    "#p\n",
    "prove_acc = [p_5151_val_acc,p_5155_val_acc,p_5551_val_acc,p_5555_val_acc,\n",
    "               p_20151_val_acc,p_20155_val_acc,p_20551_val_acc,p_20555_val_acc,\n",
    "               p_60151_val_acc,p_60155_val_acc,p_60551_val_acc,p_60555_val_acc,\n",
    "               p_51201_val_acc,p_51205_val_acc,p_55201_val_acc,p_55205_val_acc,\n",
    "               p_201201_val_acc,p_201205_val_acc,p_205201_val_acc,p_205205_val_acc,\n",
    "               p_601201_val_acc,p_601205_val_acc,p_605201_val_acc,p_605205_val_acc]\n",
    "prove_name = ('5151','5155','5551','5555','20151','20155','20551','20555','60151','60155','60551','60555',\n",
    "               '51201','51205','55201','55205','201201','201205','205201','205205','601201','601205','605201','605205')\n",
    "for i in range(len(prove_acc)):\n",
    "    print(str(prove_name[i]),': ', max(prove_acc[i]))"
   ]
  },
  {
   "cell_type": "code",
   "execution_count": 21,
   "metadata": {},
   "outputs": [
    {
     "name": "stdout",
     "output_type": "stream",
     "text": [
      "from 81 to 83 0.9678666704893113 0.023718256515807612\n",
      "from 79 to 83 0.964133338034153 0.007349543317904383\n",
      "from 80 to 86 0.9629111159841219 0.006491312024628049\n",
      "from 81 to 89 0.963050005286932 0.004881234169291981\n",
      "from 79 to 89 0.9625200053453445 0.0037788851341035157\n",
      "from 81 to 93 0.9625222278634706 0.00313031601624425\n",
      "from 79 to 93 0.9622190532514027 0.0026604169227298913\n",
      "from 80 to 96 0.9620500055328012 0.0023679279548441956\n",
      "from 79 to 97 0.9618666722046003 0.002097121563253368\n",
      "from 79 to 99 0.9612533388733864 0.0020658116500150703\n",
      "from 77 to 99 0.9606727327270942 0.0020404926744561624\n",
      "from 69 to 93 0.9604833382616441 0.002501955680613621\n",
      "from 69 to 95 0.9604717998779737 0.002320984396903425\n",
      "from 69 to 97 0.9605047668729509 0.002144771293719039\n",
      "from 68 to 98 0.9603422271609305 0.0020223639451556474\n",
      "from 67 to 99 0.9597333382628859 0.002134873861826092\n",
      "from 65 to 99 0.9588745147866362 0.002345629253397985\n",
      "from 61 to 97 0.9587037086486817 0.0022602238995269586\n",
      "from 61 to 99 0.9585473733983543 0.0021470251843843657\n",
      "from 59 to 99 0.9577966716587543 0.0023011929650412766\n",
      "from 57 to 99 0.9575809574552946 0.0022125070674301472\n",
      "from 55 to 99 0.957236368696798 0.002166474756903347\n",
      "from 53 to 99 0.9569391354270604 0.0021192155296667625\n",
      "from 51 to 99 0.9566916715477904 0.002061005357426926\n"
     ]
    }
   ],
   "source": [
    "#i is length of list being calculated\n",
    "for i in range(2,50,2):\n",
    "    mean,diff,index,interval = return_highest(r_5151_val_acc,i)\n",
    "    print('from {} to {}'.format(index,index+interval),mean,diff)"
   ]
  },
  {
   "cell_type": "code",
   "execution_count": null,
   "metadata": {
    "collapsed": true
   },
   "outputs": [],
   "source": []
  }
 ],
 "metadata": {
  "kernelspec": {
   "display_name": "Python 3",
   "language": "python",
   "name": "python3"
  },
  "language_info": {
   "codemirror_mode": {
    "name": "ipython",
    "version": 3
   },
   "file_extension": ".py",
   "mimetype": "text/x-python",
   "name": "python",
   "nbconvert_exporter": "python",
   "pygments_lexer": "ipython3",
   "version": "3.6.7"
  }
 },
 "nbformat": 4,
 "nbformat_minor": 2
}
